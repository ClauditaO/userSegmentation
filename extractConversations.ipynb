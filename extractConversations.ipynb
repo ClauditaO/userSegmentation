{
 "cells": [
  {
   "cell_type": "code",
   "execution_count": 1,
   "metadata": {
    "collapsed": true
   },
   "outputs": [],
   "source": [
    "import codecs\n",
    "import os"
   ]
  },
  {
   "cell_type": "code",
   "execution_count": 2,
   "metadata": {
    "collapsed": false,
    "scrolled": true
   },
   "outputs": [
    {
     "name": "stdout",
     "output_type": "stream",
     "text": [
      "**************175423559.txt\n",
      "**************22536315.txt\n",
      "**************75414115.txt\n",
      "**************41330927.txt\n",
      "**************8974622.txt\n",
      "**************806995651.txt\n",
      "**************256723635.txt\n",
      "**************577153008.txt\n",
      "**************318656894.txt\n",
      "**************486916072.txt\n",
      "**************22273496.txt\n",
      "**************30969279.txt\n",
      "**************233271209.txt\n",
      "**************38427322.txt\n",
      "**************8974532.txt\n",
      "**************890707698.txt\n",
      "**************479529015.txt\n",
      "**************18080002.txt\n",
      "**************97198017.txt\n",
      "**************30184218.txt\n",
      "**************22790104.txt\n",
      "**************57148450.txt\n",
      "**************615917594.txt\n",
      "**************158489580.txt\n",
      "**************564042053.txt\n",
      "**************81575555.txt\n",
      "**************1296455826.txt\n",
      "**************14049695.txt\n",
      "**************253498594.txt\n",
      "**************1221783847.txt\n",
      "**************408494342.txt\n",
      "**************207143125.txt\n",
      "**************6133472.txt\n",
      "**************245749467.txt\n",
      "**************21510973.txt\n",
      "**************107100041.txt\n",
      "**************28585208.txt\n",
      "**************242705768.txt\n",
      "**************44874498.txt\n",
      "**************380945140.txt\n",
      "**************157381435.txt\n",
      "**************485676944.txt\n",
      "**************19205823.txt\n",
      "**************21872856.txt\n",
      "**************16737418.txt\n",
      "**************91640568.txt\n",
      "**************156293964.txt\n",
      "**************138035539.txt\n",
      "**************153141016.txt\n",
      "**************192015536.txt\n",
      "**************250629797.txt\n",
      "**************1446746750.txt\n",
      "**************229049733.txt\n",
      "**************255694537.txt\n",
      "**************246290573.txt\n",
      "**************22917231.txt\n",
      "**************68957257.txt\n",
      "**************264248168.txt\n",
      "**************22185593.txt\n",
      "**************216647845.txt\n",
      "**************30182158.txt\n",
      "**************115464939.txt\n",
      "**************93598552.txt\n",
      "**************21646017.txt\n",
      "**************221314477.txt\n",
      "**************14121516.txt\n",
      "**************21523363.txt\n",
      "**************21078089.txt\n",
      "**************20293350.txt\n",
      "**************150246405.txt\n",
      "**************600031889.txt\n",
      "**************28990108.txt\n",
      "**************91334232.txt\n",
      "**************1185382400.txt\n",
      "**************1478407609.txt\n",
      "**************108597502.txt\n",
      "**************38501043.txt\n",
      "**************204033329.txt\n",
      "**************158512580.txt\n",
      "**************569968570.txt\n",
      "**************30185419.txt\n",
      "**************22085078.txt\n",
      "**************380346770.txt\n",
      "**************127566669.txt\n",
      "**************130159013.txt\n",
      "**************125179654.txt\n",
      "**************26016477.txt\n",
      "**************15768449.txt\n",
      "**************245549780.txt\n",
      "**************245777874.txt\n",
      "**************19915603.txt\n",
      "**************26540574.txt\n"
     ]
    },
    {
     "ename": "IndexError",
     "evalue": "list index out of range",
     "output_type": "error",
     "traceback": [
      "\u001b[0;31m---------------------------------------------------------------------------\u001b[0m",
      "\u001b[0;31mIndexError\u001b[0m                                Traceback (most recent call last)",
      "\u001b[0;32m<ipython-input-2-fcf1fa47d337>\u001b[0m in \u001b[0;36m<module>\u001b[0;34m()\u001b[0m\n\u001b[1;32m     11\u001b[0m         \u001b[0;32mfor\u001b[0m \u001b[0mtweet\u001b[0m \u001b[0;32min\u001b[0m \u001b[0mthis_journo_file\u001b[0m\u001b[0;34m:\u001b[0m\u001b[0;34m\u001b[0m\u001b[0m\n\u001b[1;32m     12\u001b[0m             \u001b[0mtweet_parts\u001b[0m \u001b[0;34m=\u001b[0m \u001b[0mtweet\u001b[0m\u001b[0;34m.\u001b[0m\u001b[0msplit\u001b[0m\u001b[0;34m(\u001b[0m\u001b[0;34m'\\t'\u001b[0m\u001b[0;34m)\u001b[0m\u001b[0;34m\u001b[0m\u001b[0m\n\u001b[0;32m---> 13\u001b[0;31m             \u001b[0mdates_times\u001b[0m\u001b[0;34m.\u001b[0m\u001b[0mappend\u001b[0m\u001b[0;34m(\u001b[0m\u001b[0mtweet_parts\u001b[0m\u001b[0;34m[\u001b[0m\u001b[0;36m1\u001b[0m\u001b[0;34m]\u001b[0m\u001b[0;34m[\u001b[0m\u001b[0;36m4\u001b[0m\u001b[0;34m:\u001b[0m\u001b[0;36m19\u001b[0m\u001b[0;34m]\u001b[0m\u001b[0;34m)\u001b[0m\u001b[0;34m\u001b[0m\u001b[0m\n\u001b[0m\u001b[1;32m     14\u001b[0m         \u001b[0mdates_times_sorted\u001b[0m \u001b[0;34m=\u001b[0m \u001b[0msorted\u001b[0m\u001b[0;34m(\u001b[0m\u001b[0mdates_times\u001b[0m\u001b[0;34m)\u001b[0m\u001b[0;34m\u001b[0m\u001b[0m\n\u001b[1;32m     15\u001b[0m         \u001b[0mthis_journo_file\u001b[0m\u001b[0;34m.\u001b[0m\u001b[0mclose\u001b[0m\u001b[0;34m(\u001b[0m\u001b[0;34m)\u001b[0m\u001b[0;34m\u001b[0m\u001b[0m\n",
      "\u001b[0;31mIndexError\u001b[0m: list index out of range"
     ]
    }
   ],
   "source": [
    "#Period Aug 10 - Oct 10 [inclusive]\n",
    "#703 users have less than 10 interactions with journalists\n",
    "#2252 users have at least 1 interaction\n",
    "#We have a total of 55642 interactions\n",
    "#1945 users posted at least one retweet of a journo's tweet\n",
    "#1575 users tweeted at least one mention of a journo\n",
    "\n",
    "path = '/home/clau/Documents/journalists2017_personas/'\n",
    "journos_file = codecs.open(path+'ireland_ids.txt','r')\n",
    "journos_ids = list()\n",
    "for line in journos_file:\n",
    "    journos_ids.append(line.strip())\n",
    "for f in os.listdir(path+'audience_tweets_ireland/'):\n",
    "    if f.replace('.txt','') in journos_ids:\n",
    "        print('**************'+f)\n",
    "        dates_times = list()\n",
    "        this_journo_file = codecs.open(path+'audience_tweets_ireland/'+f, 'r')\n",
    "        for tweet in this_journo_file:\n",
    "            tweet_parts = tweet.split('\\t')\n",
    "            dates_times.append(tweet_parts[1][4:19])\n",
    "        dates_times_sorted = sorted(dates_times)\n",
    "        this_journo_file.close()\n",
    "        this_journo_tweets = codecs.open(path+'journos_tweets_ireland/'+f, 'w')\n",
    "        for dt in dates_times_sorted:\n",
    "            this_journo_file = codecs.open(path+'audience_tweets_ireland/'+f, 'r')\n",
    "            for tweet in this_journo_file:\n",
    "                if dt in tweet:\n",
    "                    this_journo_tweets.write(tweet)\n",
    "            this_journo_file.close()\n",
    "        this_journo_tweets.close()\n",
    "        os.remove(path+'audience_tweets_ireland/'+f)"
   ]
  },
  {
   "cell_type": "code",
   "execution_count": 3,
   "metadata": {
    "collapsed": false
   },
   "outputs": [],
   "source": [
    "path = '/home/clau/Documents/journalists2017_personas/'\n",
    "journos_file = codecs.open(path+'ids_screennames_ireland.txt','r')\n",
    "journos_ids = dict()\n",
    "for line in journos_file:\n",
    "    parts = line.split('\\t')\n",
    "    journos_ids[parts[0]] = parts[1].strip()\n",
    "for f in os.listdir(path+'journos_tweets_ireland/'):\n",
    "    os.rename(path+'journos_tweets_ireland/'+f,path+'journos_tweets_ireland/'+journos_ids[f.replace('.txt','')]+'.txt')"
   ]
  },
  {
   "cell_type": "code",
   "execution_count": 4,
   "metadata": {
    "collapsed": false
   },
   "outputs": [],
   "source": [
    "path = '/home/clau/Documents/journalists2017_personas/'\n",
    "for f in os.listdir(path+'journos_tweets_ireland/'):\n",
    "    this_journo_interactions = codecs.open(path+'audience_interactions_ireland/'+f, 'w')\n",
    "    for fi in os.listdir(path+'audience_tweets_ireland/'):\n",
    "        this_user_file = codecs.open(path+'audience_tweets_ireland/'+fi, 'r')\n",
    "        for l in this_user_file:\n",
    "            if '@'+f.replace('.txt','') in l:\n",
    "                this_journo_interactions.write(fi.replace('.txt','')+'\\t'+l.strip()+'\\n')\n",
    "        this_user_file.close()\n",
    "    this_journo_interactions.close()"
   ]
  },
  {
   "cell_type": "code",
   "execution_count": null,
   "metadata": {
    "collapsed": true
   },
   "outputs": [],
   "source": []
  }
 ],
 "metadata": {
  "kernelspec": {
   "display_name": "Python 3",
   "language": "python",
   "name": "python3"
  },
  "language_info": {
   "codemirror_mode": {
    "name": "ipython",
    "version": 3
   },
   "file_extension": ".py",
   "mimetype": "text/x-python",
   "name": "python",
   "nbconvert_exporter": "python",
   "pygments_lexer": "ipython3",
   "version": "3.5.2"
  }
 },
 "nbformat": 4,
 "nbformat_minor": 1
}
