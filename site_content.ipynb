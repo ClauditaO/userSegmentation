{
 "cells": [
  {
   "cell_type": "code",
   "execution_count": 6,
   "metadata": {
    "collapsed": false
   },
   "outputs": [],
   "source": [
    "import codecs\n",
    "import os\n",
    "import numpy as np\n",
    "from collections import Counter, OrderedDict\n",
    "import pandas as pd\n",
    "from datetime import datetime\n",
    "import matplotlib.pyplot as plt\n",
    "import nltk\n",
    "from nltk import word_tokenize\n",
    "from nltk.util import ngrams\n",
    "import string\n",
    "import re\n",
    "from nltk import pos_tag\n",
    "from nltk.chunk import conlltags2tree\n",
    "from nltk.tree import Tree\n",
    "from operator import itemgetter\n",
    "from nltk import word_tokenize\n",
    "from nltk.tag.stanford import StanfordNERTagger\n",
    "from nltk.tag.stanford import StanfordPOSTagger\n",
    "from sklearn import preprocessing"
   ]
  },
  {
   "cell_type": "code",
   "execution_count": 7,
   "metadata": {
    "collapsed": false
   },
   "outputs": [],
   "source": [
    "class DataPopulation:\n",
    "    \n",
    "    def GetJournosIds():\n",
    "        journos_ids = list()\n",
    "        journos_file = codecs.open('ireland_ids.txt', 'r')\n",
    "        for line in journos_file:\n",
    "            journos_ids.append(line.strip())\n",
    "        journos_file.close()\n",
    "\n",
    "    def GetJournosInfo():\n",
    "        journos_info = dict()\n",
    "        journos_file = codecs.open('irish_journos_info.txt')\n",
    "        for line in journos_file:\n",
    "            parts = line.split('\\t')\n",
    "            journos_info['@'+parts[3].lower()] = '@'+parts[3].lower()+'\\t'+str(parts[0])+'\\t'+parts[1]+'\\t'+parts[2]+'\\t'+parts[4]+'\\t'+parts[5]+'\\t'+parts[6].lower()+'\\t'+parts[7].strip().lower()\n",
    "        journos_file.close()\n",
    "\n",
    "    def GetMentionedJournos():\n",
    "        mentioned_journos_file = codecs.open('mentioned_journalists_ireland.txt')\n",
    "        mentioned_journos_list= list()\n",
    "        for line in mentioned_journos_file:\n",
    "            mentioned_journos_list.append(line.strip())\n",
    "        mentioned_journos_file.close()\n",
    "\n",
    "    def LoadAudienceInfo():\n",
    "        audience_file = codecs.open('audience_descriptions_ireland.txt', 'r')\n",
    "        audience_description_list = list()\n",
    "        for line in audience_file:\n",
    "            audience_description_list.append(line.lower().strip().split('\\t'))\n",
    "        audience_file.close()\n",
    "        audience_df = pd.DataFrame.from_records(audience_description_list, columns = ['user_id','description','verified','user_name', 'gender','occupation','hobby','salary'])\n",
    "\n",
    "    def GetInteractionsWithJourno(journo_name):\n",
    "        interactions_df = pd.DataFrame(columns=['user_id', 'tweet_text', 'day', 'month', 'hour', 'year'])\n",
    "        for file1 in os.listdir('/audience_tweets_ireland/'):\n",
    "            this_user_tweets = codecs.open('/audience_tweets_ireland/'+file1, 'r')\n",
    "            for line in this_user_tweets:\n",
    "                pieces = line.split('\\t')\n",
    "                while len(pieces) < 2:\n",
    "                    line = line.replace('\\n', ' ').replace('\\r',' ') + next(this_user_tweets)\n",
    "                    pieces = line.split('\\t')\n",
    "                tweet_text = pieces[0]\n",
    "                tweet_timestamp = pieces[1]\n",
    "                if journo_name in tweet_text:\n",
    "                    interaction = list()\n",
    "                    interaction.append(file1.replace('.txt',''))\n",
    "                    interaction.append(tweet_text.replace('&amp;', '&'))\n",
    "                    timestamp = tweet_timestamp.strip().split(' ')\n",
    "                    interaction.append(timestamp[0])\n",
    "                    interaction.append(timestamp[1])\n",
    "                    interaction.append(timestamp[3])\n",
    "                    interaction.append(timestamp[5])\n",
    "                    interaction_df = pd.DataFrame(np.array(interaction).reshape(1,6), columns=['user_id', 'tweet_text', 'day', 'month', 'hour', 'year'])\n",
    "                    interactions_df.index = range(1,len(interactions_df)+1)\n",
    "                    interactions_df = interactions_df.append(interaction_df)\n",
    "            this_user_tweets.close()\n",
    "                \n",
    "    def GetCoocurrences(mentioned_journos_list):\n",
    "        user_journos = dict()\n",
    "        #create empty dataframe with headings\n",
    "        all_journos_mentioned = pd.DataFrame(columns=mentioned_journos_list)\n",
    "        #extract users interactions, create a dataframe for each user and append it to a global dataframe\n",
    "        for file1 in os.listdir('audience_tweets_ireland/'):\n",
    "            if file1.replace('.txt','') not in journos_ids:\n",
    "                user_journos = user_journos.fromkeys(mentioned_journos_list, 0)\n",
    "                cat_days_blocks = Counter()\n",
    "                this_user_tweets = codecs.open('audience_tweets_ireland/'+file1, 'r')\n",
    "                for line in this_user_tweets:\n",
    "                    pieces = line.split('\\t')\n",
    "                    while len(pieces) < 2:\n",
    "                        line = line.replace('\\n', ' ').replace('\\r',' ') + next(this_user_tweets)\n",
    "                        pieces = line.split('\\t')\n",
    "                    tweet_text = pieces[0]\n",
    "                    for k in journos_info.keys():\n",
    "                        if k in tweet_text:\n",
    "                            this_journo = k+'\\t'+journos_info[k]\n",
    "                    if this_journo != '':\n",
    "                        journo_bits = this_journo.split('\\t')\n",
    "                        user_journos[journo_bits[1]] = 1\n",
    "                result_df = pd.DataFrame(user_journos, index=[file1.replace('.txt','')])\n",
    "                all_journos_mentioned = all_journos_mentioned.append(result_df)\n",
    "                this_user_tweets.close()\n",
    "        df_asint = all_journos_mentioned.astype(int)\n",
    "        coocc = df_asint.T.dot(df_asint)\n",
    "        df_this_journo_cooc = pd.DataFrame(coocc[this_journalist].reset_index(name='total_interactions'))\n",
    "        df_this_journo_cooc = df_this_journo_cooc.loc[df_this_journo_cooc['total_interactions'] > 4]\n",
    "        df_this_journo_cooc = df_this_journo_cooc.rename(columns={'index': 'journalist'})\n",
    "    "
   ]
  },
  {
   "cell_type": "code",
   "execution_count": 8,
   "metadata": {
    "collapsed": false
   },
   "outputs": [
    {
     "ename": "FileNotFoundError",
     "evalue": "[Errno 2] No such file or directory: 'ireland_ids.txt'",
     "output_type": "error",
     "traceback": [
      "\u001b[0;31m---------------------------------------------------------------------------\u001b[0m",
      "\u001b[0;31mFileNotFoundError\u001b[0m                         Traceback (most recent call last)",
      "\u001b[0;32m<ipython-input-8-037cca271595>\u001b[0m in \u001b[0;36m<module>\u001b[0;34m()\u001b[0m\n\u001b[0;32m----> 1\u001b[0;31m \u001b[0mDataPopulation\u001b[0m\u001b[0;34m.\u001b[0m\u001b[0mGetJournosIds\u001b[0m\u001b[0;34m(\u001b[0m\u001b[0;34m)\u001b[0m\u001b[0;34m\u001b[0m\u001b[0m\n\u001b[0m\u001b[1;32m      2\u001b[0m \u001b[0mDataPopulation\u001b[0m\u001b[0;34m.\u001b[0m\u001b[0mGetJournosInfo\u001b[0m\u001b[0;34m(\u001b[0m\u001b[0;34m)\u001b[0m\u001b[0;34m\u001b[0m\u001b[0m\n\u001b[1;32m      3\u001b[0m \u001b[0mDataPopulation\u001b[0m\u001b[0;34m.\u001b[0m\u001b[0mLoadAudienceInfo\u001b[0m\u001b[0;34m(\u001b[0m\u001b[0;34m)\u001b[0m\u001b[0;34m\u001b[0m\u001b[0m\n\u001b[1;32m      4\u001b[0m \u001b[0mDataPopulation\u001b[0m\u001b[0;34m.\u001b[0m\u001b[0mGetInteractionsWithJourno\u001b[0m\u001b[0;34m(\u001b[0m\u001b[0mthis_journalist\u001b[0m\u001b[0;34m)\u001b[0m\u001b[0;34m\u001b[0m\u001b[0m\n\u001b[1;32m      5\u001b[0m \u001b[0mDataPopulation\u001b[0m\u001b[0;34m.\u001b[0m\u001b[0mGetCoocurrences\u001b[0m\u001b[0;34m(\u001b[0m\u001b[0mDataPopulation\u001b[0m\u001b[0;34m.\u001b[0m\u001b[0mGetMentionedJournos\u001b[0m\u001b[0;34m(\u001b[0m\u001b[0;34m)\u001b[0m\u001b[0;34m)\u001b[0m\u001b[0;34m\u001b[0m\u001b[0m\n",
      "\u001b[0;32m<ipython-input-7-1c6cbc47e462>\u001b[0m in \u001b[0;36mGetJournosIds\u001b[0;34m()\u001b[0m\n\u001b[1;32m      3\u001b[0m     \u001b[0;32mdef\u001b[0m \u001b[0mGetJournosIds\u001b[0m\u001b[0;34m(\u001b[0m\u001b[0;34m)\u001b[0m\u001b[0;34m:\u001b[0m\u001b[0;34m\u001b[0m\u001b[0m\n\u001b[1;32m      4\u001b[0m         \u001b[0mjournos_ids\u001b[0m \u001b[0;34m=\u001b[0m \u001b[0mlist\u001b[0m\u001b[0;34m(\u001b[0m\u001b[0;34m)\u001b[0m\u001b[0;34m\u001b[0m\u001b[0m\n\u001b[0;32m----> 5\u001b[0;31m         \u001b[0mjournos_file\u001b[0m \u001b[0;34m=\u001b[0m \u001b[0mcodecs\u001b[0m\u001b[0;34m.\u001b[0m\u001b[0mopen\u001b[0m\u001b[0;34m(\u001b[0m\u001b[0;34m'ireland_ids.txt'\u001b[0m\u001b[0;34m,\u001b[0m \u001b[0;34m'r'\u001b[0m\u001b[0;34m)\u001b[0m\u001b[0;34m\u001b[0m\u001b[0m\n\u001b[0m\u001b[1;32m      6\u001b[0m         \u001b[0;32mfor\u001b[0m \u001b[0mline\u001b[0m \u001b[0;32min\u001b[0m \u001b[0mjournos_file\u001b[0m\u001b[0;34m:\u001b[0m\u001b[0;34m\u001b[0m\u001b[0m\n\u001b[1;32m      7\u001b[0m             \u001b[0mjournos_ids\u001b[0m\u001b[0;34m.\u001b[0m\u001b[0mappend\u001b[0m\u001b[0;34m(\u001b[0m\u001b[0mline\u001b[0m\u001b[0;34m.\u001b[0m\u001b[0mstrip\u001b[0m\u001b[0;34m(\u001b[0m\u001b[0;34m)\u001b[0m\u001b[0;34m)\u001b[0m\u001b[0;34m\u001b[0m\u001b[0m\n",
      "\u001b[0;32m/usr/lib/python3.5/codecs.py\u001b[0m in \u001b[0;36mopen\u001b[0;34m(filename, mode, encoding, errors, buffering)\u001b[0m\n\u001b[1;32m    893\u001b[0m         \u001b[0;31m# Force opening of the file in binary mode\u001b[0m\u001b[0;34m\u001b[0m\u001b[0;34m\u001b[0m\u001b[0m\n\u001b[1;32m    894\u001b[0m         \u001b[0mmode\u001b[0m \u001b[0;34m=\u001b[0m \u001b[0mmode\u001b[0m \u001b[0;34m+\u001b[0m \u001b[0;34m'b'\u001b[0m\u001b[0;34m\u001b[0m\u001b[0m\n\u001b[0;32m--> 895\u001b[0;31m     \u001b[0mfile\u001b[0m \u001b[0;34m=\u001b[0m \u001b[0mbuiltins\u001b[0m\u001b[0;34m.\u001b[0m\u001b[0mopen\u001b[0m\u001b[0;34m(\u001b[0m\u001b[0mfilename\u001b[0m\u001b[0;34m,\u001b[0m \u001b[0mmode\u001b[0m\u001b[0;34m,\u001b[0m \u001b[0mbuffering\u001b[0m\u001b[0;34m)\u001b[0m\u001b[0;34m\u001b[0m\u001b[0m\n\u001b[0m\u001b[1;32m    896\u001b[0m     \u001b[0;32mif\u001b[0m \u001b[0mencoding\u001b[0m \u001b[0;32mis\u001b[0m \u001b[0;32mNone\u001b[0m\u001b[0;34m:\u001b[0m\u001b[0;34m\u001b[0m\u001b[0m\n\u001b[1;32m    897\u001b[0m         \u001b[0;32mreturn\u001b[0m \u001b[0mfile\u001b[0m\u001b[0;34m\u001b[0m\u001b[0m\n",
      "\u001b[0;31mFileNotFoundError\u001b[0m: [Errno 2] No such file or directory: 'ireland_ids.txt'"
     ]
    }
   ],
   "source": [
    "DataPopulation.GetJournosIds()\n",
    "DataPopulation.GetJournosInfo()\n",
    "DataPopulation.LoadAudienceInfo()\n",
    "DataPopulation.GetInteractionsWithJourno(this_journalist)\n",
    "DataPopulation.GetCoocurrences(DataPopulation.GetMentionedJournos())"
   ]
  },
  {
   "cell_type": "code",
   "execution_count": null,
   "metadata": {
    "collapsed": true
   },
   "outputs": [],
   "source": []
  }
 ],
 "metadata": {
  "kernelspec": {
   "display_name": "Python 3",
   "language": "python",
   "name": "python3"
  },
  "language_info": {
   "codemirror_mode": {
    "name": "ipython",
    "version": 3
   },
   "file_extension": ".py",
   "mimetype": "text/x-python",
   "name": "python",
   "nbconvert_exporter": "python",
   "pygments_lexer": "ipython3",
   "version": "3.5.2"
  }
 },
 "nbformat": 4,
 "nbformat_minor": 1
}
